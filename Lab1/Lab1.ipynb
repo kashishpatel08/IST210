{
  "nbformat": 4,
  "nbformat_minor": 0,
  "metadata": {
    "colab": {
      "name": "Lab1.ipynb",
      "provenance": [],
      "collapsed_sections": [],
      "authorship_tag": "ABX9TyMNOiFSDLBM5HOQqhFjMmWR",
      "include_colab_link": true
    },
    "kernelspec": {
      "name": "python3",
      "display_name": "Python 3"
    }
  },
  "cells": [
    {
      "cell_type": "markdown",
      "metadata": {
        "id": "view-in-github",
        "colab_type": "text"
      },
      "source": [
        "<a href=\"https://colab.research.google.com/github/kashishpatel08/IST210/blob/master/Lab1/Lab1.ipynb\" target=\"_parent\"><img src=\"https://colab.research.google.com/assets/colab-badge.svg\" alt=\"Open In Colab\"/></a>"
      ]
    },
    {
      "cell_type": "markdown",
      "metadata": {
        "id": "FhVK_1NrUzJK",
        "colab_type": "text"
      },
      "source": [
        "### Name \n",
        "Kashish Patel\n"
      ]
    },
    {
      "cell_type": "markdown",
      "metadata": {
        "id": "Ywv3SlvkVohY",
        "colab_type": "text"
      },
      "source": [
        "### IST related interests\n",
        " Developing skills and knowledge that helps me analyse problems and solving problems that impact everyday lives.\n"
      ]
    },
    {
      "cell_type": "markdown",
      "metadata": {
        "id": "hXv64NcfXhPh",
        "colab_type": "text"
      },
      "source": [
        "### Future Job\n",
        "IT Systems Analyst in Dell,Google or Microsoft.\n"
      ]
    },
    {
      "cell_type": "markdown",
      "metadata": {
        "id": "Krc5rXa3YSUv",
        "colab_type": "text"
      },
      "source": [
        "![alt text](https://raw.githubusercontent.com/kashishpatel08/IST210/master/Introduction/IMG_2577.jpg)"
      ]
    }
  ]
}