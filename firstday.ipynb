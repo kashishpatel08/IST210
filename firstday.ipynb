{
  "nbformat": 4,
  "nbformat_minor": 0,
  "metadata": {
    "colab": {
      "name": "firstday.ipynb",
      "provenance": [],
      "authorship_tag": "ABX9TyPRTahVoSIrh/WU/7jPJmYR",
      "include_colab_link": true
    },
    "kernelspec": {
      "name": "python3",
      "display_name": "Python 3"
    }
  },
  "cells": [
    {
      "cell_type": "markdown",
      "metadata": {
        "id": "view-in-github",
        "colab_type": "text"
      },
      "source": [
        "<a href=\"https://colab.research.google.com/github/kashishpatel08/IST210/blob/master/firstday.ipynb\" target=\"_parent\"><img src=\"https://colab.research.google.com/assets/colab-badge.svg\" alt=\"Open In Colab\"/></a>"
      ]
    },
    {
      "cell_type": "code",
      "metadata": {
        "colab_type": "code",
        "id": "Pzz-VPmFBIIH",
        "outputId": "52615b5a-d2e6-470f-c67a-b34647b3e024",
        "colab": {
          "base_uri": "https://localhost:8080/",
          "height": 34
        }
      },
      "source": [
        "2+2"
      ],
      "execution_count": 0,
      "outputs": [
        {
          "output_type": "execute_result",
          "data": {
            "text/plain": [
              "4"
            ]
          },
          "metadata": {
            "tags": []
          },
          "execution_count": 4
        }
      ]
    },
    {
      "cell_type": "markdown",
      "metadata": {
        "id": "RLPt1FQKB9kY",
        "colab_type": "text"
      },
      "source": [
        "This is my first notebook"
      ]
    },
    {
      "cell_type": "code",
      "metadata": {
        "id": "JzrxzZJqBdME",
        "colab_type": "code",
        "outputId": "dde39947-07dc-4d8b-b0fc-5b0c955df130",
        "colab": {
          "base_uri": "https://localhost:8080/",
          "height": 34
        }
      },
      "source": [
        "2+3"
      ],
      "execution_count": 0,
      "outputs": [
        {
          "output_type": "execute_result",
          "data": {
            "text/plain": [
              "5"
            ]
          },
          "metadata": {
            "tags": []
          },
          "execution_count": 5
        }
      ]
    },
    {
      "cell_type": "markdown",
      "metadata": {
        "id": "QmfqcFa_CDo_",
        "colab_type": "text"
      },
      "source": [
        "this is **bold**"
      ]
    },
    {
      "cell_type": "markdown",
      "metadata": {
        "id": "wWdtoagXCUS4",
        "colab_type": "text"
      },
      "source": [
        "# this is a header \n",
        "## this is a header \n",
        "### this is a header "
      ]
    },
    {
      "cell_type": "markdown",
      "metadata": {
        "id": "8qegFygGGMnp",
        "colab_type": "text"
      },
      "source": [
        "![alt text](https://raw.githubusercontent.com/kashishpatel08/IST210/master/Introduction/nono-c.jpg)"
      ]
    }
  ]
}