{
  "nbformat": 4,
  "nbformat_minor": 0,
  "metadata": {
    "colab": {
      "name": "PetShopER.ipynb",
      "provenance": [],
      "collapsed_sections": [],
      "authorship_tag": "ABX9TyMhVTAMI1041fG5gqsrHUaU",
      "include_colab_link": true
    },
    "kernelspec": {
      "name": "python3",
      "display_name": "Python 3"
    }
  },
  "cells": [
    {
      "cell_type": "markdown",
      "metadata": {
        "id": "view-in-github",
        "colab_type": "text"
      },
      "source": [
        "<a href=\"https://colab.research.google.com/github/kashishpatel08/IST210/blob/master/LAB2/PetShopER.ipynb\" target=\"_parent\"><img src=\"https://colab.research.google.com/assets/colab-badge.svg\" alt=\"Open In Colab\"/></a>"
      ]
    },
    {
      "cell_type": "markdown",
      "metadata": {
        "id": "P8TFrp4zgMN4",
        "colab_type": "text"
      },
      "source": [
        "#PET SHOP"
      ]
    },
    {
      "cell_type": "markdown",
      "metadata": {
        "id": "eFtmoNd6dgLS",
        "colab_type": "text"
      },
      "source": [
        "For the Pet Shop ER Diagram, I made 6 table whcih are Customer, Loyalty Program,Food, Pets, Enclosures and Purchases. I designed these tables because it covers everything in pet shop. \n",
        "\n",
        "Specifying Reasons for each table and their keys:\n",
        "\n",
        "**Customer**- It has \"CustomerId\" as the primary key. Customers signup loyalty programs and make purchases. The business at pet shop runs because of its customers and its necessary to have purchases documented which also helps to update points to the loyalty program. \n",
        "\n",
        "**Loyalty Program**- It has \"LoyaltyCard_No\" as the primary key and CustomerId as the foriegn key because we need to keep a track of customers so the points are updated when purchases are made in the right account.\n",
        "\n",
        "**Purchases**- It has \"PurchaseId\" as the primary key and Pet-Id,FoodBarcode,LoyaltyCard_No,CustomerId as the foriegn key because Once pet and food items are bought it should be updated in the system so if the manager wants to order more according to the requirement. LoyaltyCard_No so that points with each purchase are update to the card. \n",
        "\n",
        "**Enclosure**- It has \"Enclosure-ID\" as the primary key. It has two attributes type because we also have pets and fishes so aquarium and other types. Sizes depends on the type of pet kept in it. \n",
        "\n",
        "**Pet**- It has \"Pet-Id\" as the primary key. Enclosure-ID and FoodBarcode as Foriegn Key. FoodBarcode because we know what pet eats what type of food. Enclosure-ID because we know what pet is kept in what enclosure. \n",
        "\n",
        "**Food**- FoodBarcode is the primary key. It has Product Name, Product Type, Manufacturer, Price as the attributed because its eady to allocate products and all its details. \n",
        "\n",
        "This ER Diagram helps to manage sales, store all details, allocate products and pets, update customer informations, Restoring inventory. Having an ER Diagram helps in smooth functioning of the store. "
      ]
    },
    {
      "cell_type": "markdown",
      "metadata": {
        "id": "MHE6dna1uFmN",
        "colab_type": "text"
      },
      "source": [
        "![Pet Shop](https://raw.githubusercontent.com/kashishpatel08/IST210/master/LAB2/ERD%20PETSHOP.png)"
      ]
    }
  ]
}